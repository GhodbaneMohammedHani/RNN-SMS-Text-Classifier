{
  "cells": [
    {
      "cell_type": "markdown",
      "metadata": {
        "id": "view-in-github",
        "colab_type": "text"
      },
      "source": [
        "<a href=\"https://colab.research.google.com/github/GhodbaneMohammedHani/RNN-SMS-Text-Classifier/blob/main/sms_text_classification.ipynb\" target=\"_parent\"><img src=\"https://colab.research.google.com/assets/colab-badge.svg\" alt=\"Open In Colab\"/></a>"
      ]
    },
    {
      "cell_type": "code",
      "execution_count": null,
      "metadata": {
        "id": "8RZOuS9LWQvv"
      },
      "outputs": [],
      "source": [
        "# Use TensorFlow 2.x in Colab\n",
        "!pip install nbformat==5.9.2 nbconvert==7.14.0\n",
        "%tensorflow_version 2.x\n",
        "import tensorflow as tf\n",
        "import pandas as pd\n",
        "import tensorflow_datasets as tfds\n",
        "import numpy as np\n",
        "import matplotlib.pyplot as plt\n",
        "from tensorflow import keras\n",
        "\n",
        "# Install tensorflow-datasets if not already\n",
        "!pip install -q tensorflow-datasets\n",
        "\n",
        "print(tf.__version__)\n"
      ]
    },
    {
      "cell_type": "code",
      "execution_count": null,
      "metadata": {
        "id": "lMHwYXHXCar3"
      },
      "outputs": [],
      "source": [
        "# get data files\n",
        "!wget https://cdn.freecodecamp.org/project-data/sms/train-data.tsv\n",
        "!wget https://cdn.freecodecamp.org/project-data/sms/valid-data.tsv\n",
        "\n",
        "train_file_path = \"train-data.tsv\"\n",
        "test_file_path = \"valid-data.tsv\""
      ]
    },
    {
      "cell_type": "code",
      "execution_count": null,
      "metadata": {
        "id": "g_h508FEClxO"
      },
      "outputs": [],
      "source": [
        "#load the data and map the labels to 0 and 1\n",
        "import nlpaug.augmenter.word as naw\n",
        "import nltk\n",
        "\"\"\"\n",
        "nltk.download('averaged_perceptron_tagger_eng')\n",
        "nltk.download('wordnet')\n",
        "nltk.download('omw-1.4')\n",
        "\"\"\"\n",
        "aug = naw.SynonymAug(aug_src='wordnet')\n",
        "\n",
        "train_df = pd.read_csv(train_file_path, sep='\\t', header=None, names=['label','message'])\n",
        "valid_df = pd.read_csv(test_file_path, sep='\\t', header=None, names=['label','message'])\n",
        "train_df['label'] = train_df['label'].map({'ham': 0, 'spam': 1})\n",
        "valid_df['label'] = valid_df['label'].map({'ham': 0, 'spam': 1})\n",
        "# Filter spam messages\n",
        "spam_df = train_df[train_df['label'] == 1]\n",
        "augmented_texts = []\n",
        "for msg in spam_df['message']:\n",
        "    for _ in range(5):  # 5x augmentation per spam\n",
        "        augmented_texts.append(aug.augment(msg)[0])\n",
        "aug_df = pd.DataFrame({\n",
        "    'message': augmented_texts,\n",
        "    'label': 1\n",
        "})\n",
        "\n",
        "# Combine and shuffle\n",
        "train_df = pd.concat([train_df, aug_df], ignore_index=True).sample(frac=1, random_state=42).reset_index(drop=True)\n",
        "# Inspect\n",
        "print(train_df['label'].value_counts())\n",
        "print(train_df[train_df['label']==1].head())"
      ]
    },
    {
      "cell_type": "code",
      "execution_count": null,
      "metadata": {
        "id": "zOMKywn4zReN"
      },
      "outputs": [],
      "source": [
        "from tensorflow.keras.preprocessing.text import Tokenizer\n",
        "from tensorflow.keras.preprocessing.sequence import pad_sequences\n",
        "vocab_size = 10000\n",
        "max_len = 100\n",
        "oov_token = \"<OOV>\"\n",
        "tokenizer = Tokenizer(num_words=vocab_size,oov_token=oov_token)\n",
        "tokenizer.fit_on_texts(train_df['message'])\n",
        "#convert text to sequences\n",
        "X_train = tokenizer.texts_to_sequences(train_df['message'])\n",
        "X_valid = tokenizer.texts_to_sequences(valid_df['message'])\n",
        "#pad sequences\n",
        "X_train = pad_sequences(X_train,maxlen=max_len,padding='post',truncating='post')\n",
        "X_valid = pad_sequences(X_valid,maxlen=max_len,padding='post',truncating='post')\n",
        "y_train = train_df['label'].values\n",
        "y_valid = valid_df['label'].values\n"
      ]
    },
    {
      "cell_type": "code",
      "source": [
        "from tensorflow.keras.models import Sequential\n",
        "from tensorflow.keras.layers import Embedding,LSTM,Dense,Dropout,Bidirectional\n",
        "embedding_dim = 128\n",
        "model = Sequential([\n",
        "   Embedding(input_dim=vocab_size, output_dim=embedding_dim, input_length=max_len),\n",
        "    Bidirectional(LSTM(64, return_sequences=True)),\n",
        "    Dropout(0.4),\n",
        "    Bidirectional(LSTM(32)),\n",
        "    Dropout(0.3),\n",
        "    Dense(32, activation='relu'),\n",
        "    Dropout(0.2),\n",
        "    Dense(1, activation='sigmoid')\n",
        "])\n",
        "model.build(input_shape=(None,max_len))\n",
        "model.compile(loss='binary_crossentropy',optimizer=tf.keras.optimizers.Adam(learning_rate=1e-3),metrics=['accuracy'])\n",
        "model.summary()"
      ],
      "metadata": {
        "id": "Xa2CxmpJ1KHm"
      },
      "execution_count": null,
      "outputs": []
    },
    {
      "cell_type": "code",
      "source": [
        "epochs = 10\n",
        "batch_size = 32\n",
        "history = model.fit(X_train,y_train,epochs=epochs,validation_data=(X_valid,y_valid), batch_size=batch_size)"
      ],
      "metadata": {
        "id": "RBvhJeU25ZXN"
      },
      "execution_count": null,
      "outputs": []
    },
    {
      "cell_type": "code",
      "source": [
        "acc = history.history['accuracy']\n",
        "val_acc = history.history['val_accuracy']\n",
        "loss = history.history['loss']\n",
        "val_loss = history.history['val_loss']\n",
        "epochs_range = range(epochs)\n",
        "plt.figure(figsize=(8,8))\n",
        "plt.subplot(1,2,1)\n",
        "plt.plot(epochs_range,acc,label='Training Accuracy')\n",
        "plt.plot(epochs_range,val_acc,label='Validation Accuracy')\n",
        "plt.legend(loc='lower right')\n",
        "plt.title('Training and Validation Accuracy')\n",
        "plt.subplot(1,2,2)\n",
        "plt.plot(epochs_range,loss,label='Training Loss')\n",
        "plt.plot(epochs_range,val_loss,label='Validation Loss')\n",
        "plt.legend(loc='upper right')\n",
        "plt.title('Training and Validation Loss')\n",
        "plt.show()\n"
      ],
      "metadata": {
        "id": "CR_gRKNt8i7m"
      },
      "execution_count": null,
      "outputs": []
    },
    {
      "cell_type": "code",
      "execution_count": null,
      "metadata": {
        "id": "J9tD9yACG6M9"
      },
      "outputs": [],
      "source": [
        "# function to predict messages based on model\n",
        "# (should return list containing prediction and label, ex. [0.008318834938108921, 'ham'])\n",
        "def predict_message(pred_text):\n",
        "  prediction = []\n",
        "  tokenized_text = tokenizer.texts_to_sequences([pred_text])\n",
        "  padded_text = pad_sequences(tokenized_text,maxlen=max_len,padding='post',truncating='post')\n",
        "  prob = model.predict(padded_text)[0][0]\n",
        "  if prob > 0.5:\n",
        "    prediction.append(1)\n",
        "    prediction.append('spam')\n",
        "  else:\n",
        "    prediction.append(0)\n",
        "    prediction.append('ham')\n",
        "  return (prediction)\n",
        "\n",
        "pred_text = \"how are you doing today?\"\n",
        "\n",
        "prediction = predict_message(pred_text)\n",
        "print(prediction)"
      ]
    },
    {
      "cell_type": "code",
      "execution_count": null,
      "metadata": {
        "id": "Dxotov85SjsC"
      },
      "outputs": [],
      "source": [
        "# Run this cell to test your function and model. Do not modify contents.\n",
        "def test_predictions():\n",
        "  test_messages = [\"how are you doing today\",\n",
        "                   \"sale today! to stop texts call 98912460324\",\n",
        "                   \"i dont want to go. can we try it a different day? available sat\",\n",
        "                   \"our new mobile video service is live. just install on your phone to start watching.\",\n",
        "                   \"you have won £1000 cash! call to claim your prize.\",\n",
        "                   \"i'll bring it tomorrow. don't forget the milk.\",\n",
        "                   \"wow, is your arm alright. that happened to me one time too\"\n",
        "                  ]\n",
        "\n",
        "  test_answers = [\"ham\", \"spam\", \"ham\", \"spam\", \"spam\", \"ham\", \"ham\"]\n",
        "  passed = True\n",
        "  for msg, ans in zip(test_messages, test_answers):\n",
        "    prediction = predict_message(msg)\n",
        "    if prediction[1] != ans:\n",
        "      passed = False\n",
        "\n",
        "  if passed:\n",
        "    print(\"You passed the challenge. Great job!\")\n",
        "  else:\n",
        "    print(\"You haven't passed yet. Keep trying.\")\n",
        "test_predictions()\n"
      ]
    },
    {
      "cell_type": "code",
      "source": [],
      "metadata": {
        "id": "53rCfHbk9z2f"
      },
      "execution_count": null,
      "outputs": []
    }
  ],
  "metadata": {
    "colab": {
      "private_outputs": true,
      "provenance": [],
      "include_colab_link": true
    },
    "kernelspec": {
      "display_name": "Python 3",
      "name": "python3"
    },
    "language_info": {}
  },
  "nbformat": 4,
  "nbformat_minor": 0
}